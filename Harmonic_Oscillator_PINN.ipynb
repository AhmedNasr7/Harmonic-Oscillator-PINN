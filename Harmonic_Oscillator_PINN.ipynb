{
  "cells": [
    {
      "cell_type": "markdown",
      "metadata": {
        "id": "EUNYPr7d8aJQ"
      },
      "source": [
        "# Solving the Damped Harmonic Oscillator Using a Physics-Informed Neural Network (PINN)\n",
        "\n",
        "\n",
        "\n",
        "The goal is to solve the damped harmonic oscillator equation using a Physics-Informed Neural Network (PINN) in PyTorch. The equation governing the damped harmonic oscillator is:\n",
        "\n",
        "$$\n",
        "\\\n",
        "\\frac{d^2x}{dz^2} + 2 \\xi \\frac{dx}{dz} + x = 0\n",
        "\\\n",
        "$$\n",
        "\n",
        "where:\n",
        "- $x(z)$  is the displacement of the system as a function of time \\( z \\),\n",
        "- $\\xi$ is the damping ratio (which we will condition the model on in the range\n",
        " $\\xi$ in [0.1, 0.4].\n",
        "- $x_0 = 0.7$ is the initial displacement, and\n",
        "- $v_0 = \\frac{dx}{dz}(0) = 1.2$ is the initial velocity.\n",
        "\n",
        "The solution will be computed over the domain \\( z \\in [0, 20] \\), and the PINN will be used to learn the solution to this equation while being conditioned on the damping ratio $\\xi$.\n",
        "\n",
        "### Steps:\n",
        "1. **Define the PDE and initial conditions**: The damped harmonic oscillator equation is implemented as a loss function in the PINN.\n",
        "2. **Build the PINN architecture**: A neural network is created to solve the PDE by learning the displacement $x(z)$ and the velocity $\\frac{dx}{dz}$.\n",
        "3. **Condition the model on damping ratios**: We condition the PINN model to take in a damping ratio $\\xi$ between 0.1 and 0.4.\n",
        "4. **Training the model**: We use Adam or LBFGS optimization to minimize the PDE residual and initial conditions loss.\n",
        "\n"
      ]
    },
    {
      "cell_type": "markdown",
      "metadata": {
        "id": "z_BGKCT993Mk"
      },
      "source": [
        "### Implementation"
      ]
    },
    {
      "cell_type": "code",
      "execution_count": 7,
      "metadata": {
        "id": "d4wlpU_oXzh3"
      },
      "outputs": [],
      "source": [
        "import random\n",
        "import numpy as np\n",
        "import torch\n",
        "\n",
        "def seed_everything(seed: int):\n",
        "    \"\"\"\n",
        "    Seed all random number generators for reproducibility.\n",
        "    Args:\n",
        "        seed (int): The seed value to use for random number generation.\n",
        "    \"\"\"\n",
        "    # Python random module\n",
        "    random.seed(seed)\n",
        "\n",
        "    # Numpy random module\n",
        "    np.random.seed(seed)\n",
        "\n",
        "    torch.manual_seed(seed)\n",
        "    torch.cuda.manual_seed_all(seed)  # For all GPUs\n",
        "\n",
        "    torch.backends.cudnn.deterministic = True\n",
        "\n",
        "\n",
        "seed = 4\n",
        "seed_everything(seed)\n"
      ]
    },
    {
      "cell_type": "code",
      "execution_count": 8,
      "metadata": {
        "colab": {
          "base_uri": "https://localhost:8080/",
          "height": 564
        },
        "id": "SY36qDmjV4L2",
        "outputId": "f8165525-de76-4047-8ffb-274af5ee5dc2"
      },
      "outputs": [
        {
          "data": {
            "image/png": "[encoded data removed]",
            "text/plain": [
              "<Figure size 800x600 with 1 Axes>"
            ]
          },
          "metadata": {},
          "output_type": "display_data"
        }
      ],
      "source": [
        "import numpy as np\n",
        "import matplotlib.pyplot as plt\n",
        "\n",
        "# Define the time domain (z) from 0 to 20\n",
        "z_points = np.linspace(0, 20, 200)\n",
        "\n",
        "# Generate random points in the domain for training data\n",
        "n_points = 50\n",
        "z_points = np.sort(np.random.choice(z_points, size=n_points, replace=False))\n",
        "\n",
        "# Visualize the points in the domain\n",
        "plt.figure(figsize=(8, 6))\n",
        "plt.scatter(z_points, np.zeros_like(z_points), label='Data points', color='r')\n",
        "plt.title('Randomly Generated Data Points in the Time Domain')\n",
        "plt.xlabel('z (Time)')\n",
        "plt.ylabel('Displacement x(z)')\n",
        "plt.grid(True)\n",
        "plt.show()\n"
      ]
    },
    {
      "cell_type": "code",
      "execution_count": 9,
      "metadata": {
        "id": "H_I_j8bDXFZh"
      },
      "outputs": [],
      "source": [
        "## Model\n",
        "\n",
        "import torch\n",
        "import torch.nn as nn\n",
        "import math\n",
        "\n",
        "# Custom Wave Activation Function: Introduced here: https://arxiv.org/pdf/2307.11833\n",
        "class WaveAct(nn.Module):\n",
        "    def __init__(self):\n",
        "        super(WaveAct, self).__init__()\n",
        "        self.w1 = nn.Parameter(torch.ones(1), requires_grad=True)\n",
        "        self.w2 = nn.Parameter(torch.ones(1), requires_grad=True)\n",
        "\n",
        "    def forward(self, x):\n",
        "        return self.w1 * torch.sin(x) + self.w2 * torch.cos(x)\n",
        "\n",
        "\n",
        "# PINNs Model with Adjustable Activation\n",
        "class PINN(nn.Module):\n",
        "    def __init__(self, in_dim, hidden_dim, out_dim, num_layer, activation=\"tanh\", omega_0=30):\n",
        "        super(PINN, self).__init__()\n",
        "\n",
        "        # Define activation functions dictionary\n",
        "        activations = {\n",
        "            \"tanh\": nn.Tanh(),\n",
        "            \"relu\": nn.ReLU(),\n",
        "            \"sigmoid\": nn.Sigmoid(),\n",
        "            \"elu\": nn.ELU(),\n",
        "            \"leaky_relu\": nn.LeakyReLU(),\n",
        "            \"gelu\": nn.GELU(),\n",
        "            \"silu\": nn.SiLU(),  # Swish activation\n",
        "            \"wavelet\": WaveAct(),  # Custom Wave Activation\n",
        "        }\n",
        "\n",
        "        if activation not in activations:\n",
        "            raise ValueError(f\"Activation '{activation}' not supported. Choose from {list(activations.keys())}.\")\n",
        "\n",
        "        self.activation = activations[activation]\n",
        "\n",
        "        layers = []\n",
        "        for i in range(num_layer - 1):\n",
        "            if i == 0:\n",
        "                layers.append(nn.Linear(in_features=in_dim, out_features=hidden_dim))  # Only z as input\n",
        "                layers.append(self.activation)\n",
        "            else:\n",
        "                layers.append(nn.Linear(in_features=hidden_dim, out_features=hidden_dim))\n",
        "                layers.append(self.activation)\n",
        "\n",
        "        layers.append(nn.Linear(in_features=hidden_dim, out_features=out_dim))\n",
        "\n",
        "        self.linear = nn.Sequential(*layers)\n",
        "\n",
        "        # Apply Xavier initialization to all linear layers\n",
        "        self._init_weights()\n",
        "\n",
        "    def _init_weights(self):\n",
        "        for layer in self.linear:\n",
        "            if isinstance(layer, nn.Linear):\n",
        "                # Apply Xavier initialization\n",
        "                torch.nn.init.xavier_uniform_(layer.weight)\n",
        "                if layer.bias is not None:\n",
        "                    torch.nn.init.zeros_(layer.bias)\n",
        "\n",
        "    def forward(self, z):\n",
        "        return self.linear(z)\n",
        "\n",
        "\n"
      ]
    },
    {
      "cell_type": "code",
      "execution_count": 10,
      "metadata": {
        "id": "C8XaEKX92qzn"
      },
      "outputs": [],
      "source": [
        "# Optional: Visualize model weights\n",
        "\n",
        "def visualize_model_weights(model):\n",
        "    for name, param in model.named_parameters():\n",
        "        plt.figure(figsize=(10, 6))\n",
        "        plt.hist(param.detach().cpu().numpy().flatten(), bins=50)\n",
        "        plt.title(f\"Histogram of {name}\")\n",
        "        plt.xlabel(\"Value\")\n",
        "        plt.ylabel(\"Frequency\")\n",
        "        plt.grid(True)\n",
        "        plt.show()\n"
      ]
    },
    {
      "cell_type": "code",
      "execution_count": 11,
      "metadata": {
        "id": "AZaSgBcrYVDH"
      },
      "outputs": [],
      "source": [
        "import torch\n",
        "import torch.nn as nn\n",
        "\n",
        "# Define the PDE and initial conditions loss function\n",
        "class PINNLoss(nn.Module):\n",
        "    def __init__(self, model, x0=0.7, v0=1.2):\n",
        "        super(PINNLoss, self).__init__()\n",
        "        self.model = model\n",
        "        self.x0 = x0  # Initial displacement\n",
        "        self.v0 = v0  # Initial velocity\n",
        "\n",
        "    def forward(self, z, x, xi):\n",
        "        \"\"\"\n",
        "        Loss function for the damped harmonic oscillator PINN.\n",
        "        z: input time steps (input to the model)\n",
        "        x: predicted displacement from the PINN model\n",
        "        \"\"\"\n",
        "        # Compute the derivatives\n",
        "        dx_dz = torch.autograd.grad(x, z, grad_outputs=torch.ones_like(x), create_graph=True)[0]\n",
        "        d2x_dz2 = torch.autograd.grad(dx_dz, z, grad_outputs=torch.ones_like(dx_dz), create_graph=True)[0]\n",
        "\n",
        "\n",
        "        # Compute the PDE residual: d²x/dz² + 2ξ dx/dz + x = 0\n",
        "        pde_residual = d2x_dz2 + 2 * xi * dx_dz + x\n",
        "\n",
        "\n",
        "        # Compute initial conditions losses\n",
        "\n",
        "        z0 = torch.tensor([[0.0]]).requires_grad_(True) # z0 = 0\n",
        "        x0_pred = self.model(z0).requires_grad_(True) # x(0)\n",
        "\n",
        "\n",
        "        initial_condition = (x0_pred - self.x0)\n",
        "\n",
        "        initial_velocity_condition = (torch.autograd.grad(x0_pred, z0, grad_outputs=torch.ones_like(x0_pred), create_graph=True)[0] - self.v0)\n",
        "\n",
        "        # Take means and Combine all losses\n",
        "\n",
        "        pde_loss = torch.mean(pde_residual**2)\n",
        "        initial_loss = torch.mean(initial_condition  ** 2)\n",
        "        velocity_loss = torch.mean(initial_velocity_condition ** 2)\n",
        "\n",
        "        total_loss = pde_loss + initial_loss + velocity_loss\n",
        "\n",
        "\n",
        "        return total_loss\n"
      ]
    },
    {
      "cell_type": "code",
      "execution_count": 12,
      "metadata": {
        "colab": {
          "base_uri": "https://localhost:8080/"
        },
        "id": "8WvU340hj0_y",
        "outputId": "059f0316-3568-4556-845c-29010564e2f8"
      },
      "outputs": [
        {
          "name": "stdout",
          "output_type": "stream",
          "text": [
            "Number of Sampled Points:  50\n"
          ]
        }
      ],
      "source": [
        "print(\"Number of Sampled Points: \", z_points.shape[0])"
      ]
    },
    {
      "cell_type": "code",
      "execution_count": 13,
      "metadata": {
        "id": "sL9XpHuqcvI9"
      },
      "outputs": [],
      "source": [
        "from dataclasses import dataclass\n",
        "import torch\n",
        "import torch.optim as optim\n",
        "import numpy as np\n",
        "from tqdm import tqdm"
      ]
    },
    {
      "cell_type": "code",
      "execution_count": 14,
      "metadata": {
        "id": "31_CwY0helep"
      },
      "outputs": [],
      "source": [
        "@dataclass\n",
        "class Config:\n",
        "    learning_rate: float = 1e-3\n",
        "    epochs: int = 10_000\n",
        "    hidden_dim: int = 64\n",
        "    num_layers: int = 6\n",
        "    activation_function: str = \"wavelet\"\n",
        "    xi_range: list = (0.1, 0.4)\n",
        "    x0: float = 0.7\n",
        "    v0: float = 1.2\n",
        "    optimizer: str = \"adam\"\n",
        "\n",
        "\n",
        "config = Config()\n"
      ]
    },
    {
      "cell_type": "code",
      "execution_count": 15,
      "metadata": {
        "colab": {
          "base_uri": "https://localhost:8080/"
        },
        "id": "g7wC905hzs-N",
        "outputId": "11c45b88-a84c-4e6a-8aed-91c6ebd332f2"
      },
      "outputs": [
        {
          "name": "stdout",
          "output_type": "stream",
          "text": [
            "PINN(\n",
            "  (activation): WaveAct()\n",
            "  (linear): Sequential(\n",
            "    (0): Linear(in_features=1, out_features=64, bias=True)\n",
            "    (1): WaveAct()\n",
            "    (2): Linear(in_features=64, out_features=64, bias=True)\n",
            "    (3): WaveAct()\n",
            "    (4): Linear(in_features=64, out_features=64, bias=True)\n",
            "    (5): WaveAct()\n",
            "    (6): Linear(in_features=64, out_features=64, bias=True)\n",
            "    (7): WaveAct()\n",
            "    (8): Linear(in_features=64, out_features=64, bias=True)\n",
            "    (9): WaveAct()\n",
            "    (10): Linear(in_features=64, out_features=1, bias=True)\n",
            "  )\n",
            ")\n"
          ]
        }
      ],
      "source": [
        "model = PINN(in_dim=1, hidden_dim=config.hidden_dim, out_dim=1, num_layer=config.num_layers, activation=config.activation_function)\n",
        "\n",
        "\n",
        "print(model)"
      ]
    },
    {
      "cell_type": "code",
      "execution_count": 16,
      "metadata": {
        "id": "89FbVDyFet2F"
      },
      "outputs": [],
      "source": [
        "\n",
        "# Choose optimizer based on config\n",
        "if config.optimizer.lower() == \"adam\":\n",
        "    optimizer = optim.Adam(model.parameters(), lr=config.learning_rate)\n",
        "else:\n",
        "    optimizer = optim.LBFGS(model.parameters(), line_search_fn='strong_wolfe')\n",
        "\n",
        "\n",
        "\n",
        "pinn_loss = PINNLoss(model, x0=config.x0, v0=config.v0)\n",
        "\n",
        "\n",
        "loss_values = []\n",
        "\n",
        "def closure():\n",
        "    global loss_values\n",
        "\n",
        "    optimizer.zero_grad()  # Zero the gradients\n",
        "    z = torch.tensor(z_points, dtype=torch.float32, requires_grad=True).unsqueeze(1)  # Add a dimension for the batch\n",
        "    x = model(z)  # Model output\n",
        "    xi = torch.tensor(np.random.uniform(*config.xi_range), dtype=torch.float32, requires_grad=True) # damping coefficient range: xi_range = (0.1, 0.4)\n",
        "    loss = pinn_loss(z, x, xi)  # Compute loss\n",
        "\n",
        "    # Log the loss for visualization\n",
        "    loss_values.append(loss.item())\n",
        "    loss.backward()  # Backpropagate gradients\n",
        "    return loss"
      ]
    },
    {
      "cell_type": "code",
      "execution_count": 17,
      "metadata": {
        "id": "H-ck9WIkjdAR"
      },
      "outputs": [],
      "source": [
        "\n",
        "# Store loss values for visualization\n",
        "\n",
        "best_loss = float(\"inf\")\n",
        "best_model_state_dict = None  # To store the model's best state\n",
        "\n",
        "# Training Loop\n",
        "num_epochs = config.epochs\n"
      ]
    },
    {
      "cell_type": "code",
      "execution_count": 18,
      "metadata": {
        "colab": {
          "base_uri": "https://localhost:8080/"
        },
        "id": "5LF0xhdcejMi",
        "outputId": "f6140c2c-8397-4d61-e9f0-bc9b1b30bca4"
      },
      "outputs": [
        {
          "name": "stderr",
          "output_type": "stream",
          "text": [
            "Training Epochs:   0%|          | 16/10000 [00:00<02:03, 80.85epoch/s]"
          ]
        },
        {
          "name": "stdout",
          "output_type": "stream",
          "text": [
            "Epoch [0/10000], Loss: 9.653564453125\n"
          ]
        },
        {
          "name": "stderr",
          "output_type": "stream",
          "text": [
            "Training Epochs:   1%|          | 111/10000 [00:01<01:50, 89.87epoch/s]"
          ]
        },
        {
          "name": "stdout",
          "output_type": "stream",
          "text": [
            "Epoch [100/10000], Loss: 0.004511060658842325\n"
          ]
        },
        {
          "name": "stderr",
          "output_type": "stream",
          "text": [
            "Training Epochs:   2%|▏         | 211/10000 [00:02<01:48, 90.39epoch/s]"
          ]
        },
        {
          "name": "stdout",
          "output_type": "stream",
          "text": [
            "Epoch [200/10000], Loss: 0.0002539553097449243\n"
          ]
        },
        {
          "name": "stderr",
          "output_type": "stream",
          "text": [
            "Training Epochs:   3%|▎         | 311/10000 [00:03<01:47, 90.05epoch/s]"
          ]
        },
        {
          "name": "stdout",
          "output_type": "stream",
          "text": [
            "Epoch [300/10000], Loss: 0.00018246538820676506\n"
          ]
        },
        {
          "name": "stderr",
          "output_type": "stream",
          "text": [
            "Training Epochs:   4%|▍         | 411/10000 [00:04<01:46, 90.01epoch/s]"
          ]
        },
        {
          "name": "stdout",
          "output_type": "stream",
          "text": [
            "Epoch [400/10000], Loss: 0.00500668678432703\n"
          ]
        },
        {
          "name": "stderr",
          "output_type": "stream",
          "text": [
            "Training Epochs:   5%|▌         | 510/10000 [00:05<01:44, 90.84epoch/s]"
          ]
        },
        {
          "name": "stdout",
          "output_type": "stream",
          "text": [
            "Epoch [500/10000], Loss: 0.0038776954170316458\n"
          ]
        },
        {
          "name": "stderr",
          "output_type": "stream",
          "text": [
            "Training Epochs:   6%|▌         | 610/10000 [00:06<01:43, 90.77epoch/s]"
          ]
        },
        {
          "name": "stdout",
          "output_type": "stream",
          "text": [
            "Epoch [600/10000], Loss: 0.0007031725253909826\n"
          ]
        },
        {
          "name": "stderr",
          "output_type": "stream",
          "text": [
            "Training Epochs:   7%|▋         | 710/10000 [00:07<01:42, 90.93epoch/s]"
          ]
        },
        {
          "name": "stdout",
          "output_type": "stream",
          "text": [
            "Epoch [700/10000], Loss: 0.0015019404236227274\n"
          ]
        },
        {
          "name": "stderr",
          "output_type": "stream",
          "text": [
            "Training Epochs:   8%|▊         | 819/10000 [00:09<01:41, 90.41epoch/s]"
          ]
        },
        {
          "name": "stdout",
          "output_type": "stream",
          "text": [
            "Epoch [800/10000], Loss: 0.004630985204130411\n"
          ]
        },
        {
          "name": "stderr",
          "output_type": "stream",
          "text": [
            "Training Epochs:   9%|▉         | 911/10000 [00:10<02:07, 71.54epoch/s]"
          ]
        },
        {
          "name": "stdout",
          "output_type": "stream",
          "text": [
            "Epoch [900/10000], Loss: 0.0013046851381659508\n"
          ]
        },
        {
          "name": "stderr",
          "output_type": "stream",
          "text": [
            "Training Epochs:  10%|█         | 1012/10000 [00:11<01:56, 77.43epoch/s]"
          ]
        },
        {
          "name": "stdout",
          "output_type": "stream",
          "text": [
            "Epoch [1000/10000], Loss: 0.0031900901813060045\n"
          ]
        },
        {
          "name": "stderr",
          "output_type": "stream",
          "text": [
            "Training Epochs:  11%|█         | 1114/10000 [00:12<01:40, 88.33epoch/s]"
          ]
        },
        {
          "name": "stdout",
          "output_type": "stream",
          "text": [
            "Epoch [1100/10000], Loss: 0.004145028535276651\n"
          ]
        },
        {
          "name": "stderr",
          "output_type": "stream",
          "text": [
            "Training Epochs:  12%|█▏        | 1214/10000 [00:13<01:38, 88.93epoch/s]"
          ]
        },
        {
          "name": "stdout",
          "output_type": "stream",
          "text": [
            "Epoch [1200/10000], Loss: 0.006665940862149\n"
          ]
        },
        {
          "name": "stderr",
          "output_type": "stream",
          "text": [
            "Training Epochs:  13%|█▎        | 1313/10000 [00:15<01:37, 89.08epoch/s]"
          ]
        },
        {
          "name": "stdout",
          "output_type": "stream",
          "text": [
            "Epoch [1300/10000], Loss: 0.008571826852858067\n"
          ]
        },
        {
          "name": "stderr",
          "output_type": "stream",
          "text": [
            "Training Epochs:  14%|█▍        | 1412/10000 [00:16<01:37, 87.87epoch/s]"
          ]
        },
        {
          "name": "stdout",
          "output_type": "stream",
          "text": [
            "Epoch [1400/10000], Loss: 0.003975428640842438\n"
          ]
        },
        {
          "name": "stderr",
          "output_type": "stream",
          "text": [
            "Training Epochs:  15%|█▌        | 1514/10000 [00:17<01:35, 89.31epoch/s]"
          ]
        },
        {
          "name": "stdout",
          "output_type": "stream",
          "text": [
            "Epoch [1500/10000], Loss: 0.007788985501974821\n"
          ]
        },
        {
          "name": "stderr",
          "output_type": "stream",
          "text": [
            "Training Epochs:  16%|█▌        | 1615/10000 [00:18<01:33, 89.32epoch/s]"
          ]
        },
        {
          "name": "stdout",
          "output_type": "stream",
          "text": [
            "Epoch [1600/10000], Loss: 0.0037133602891117334\n"
          ]
        },
        {
          "name": "stderr",
          "output_type": "stream",
          "text": [
            "Training Epochs:  17%|█▋        | 1716/10000 [00:19<01:34, 87.82epoch/s]"
          ]
        },
        {
          "name": "stdout",
          "output_type": "stream",
          "text": [
            "Epoch [1700/10000], Loss: 0.011501715518534184\n"
          ]
        },
        {
          "name": "stderr",
          "output_type": "stream",
          "text": [
            "Training Epochs:  18%|█▊        | 1812/10000 [00:20<01:31, 89.16epoch/s]"
          ]
        },
        {
          "name": "stdout",
          "output_type": "stream",
          "text": [
            "Epoch [1800/10000], Loss: 0.0016436883015558124\n"
          ]
        },
        {
          "name": "stderr",
          "output_type": "stream",
          "text": [
            "Training Epochs:  19%|█▉        | 1911/10000 [00:21<01:29, 89.97epoch/s]"
          ]
        },
        {
          "name": "stdout",
          "output_type": "stream",
          "text": [
            "Epoch [1900/10000], Loss: 0.003912369720637798\n"
          ]
        },
        {
          "name": "stderr",
          "output_type": "stream",
          "text": [
            "Training Epochs:  20%|██        | 2013/10000 [00:23<01:43, 77.00epoch/s]"
          ]
        },
        {
          "name": "stdout",
          "output_type": "stream",
          "text": [
            "Epoch [2000/10000], Loss: 0.0003991698322352022\n"
          ]
        },
        {
          "name": "stderr",
          "output_type": "stream",
          "text": [
            "Training Epochs:  21%|██        | 2109/10000 [00:24<01:26, 91.24epoch/s]"
          ]
        },
        {
          "name": "stdout",
          "output_type": "stream",
          "text": [
            "Epoch [2100/10000], Loss: 0.002240987028926611\n"
          ]
        },
        {
          "name": "stderr",
          "output_type": "stream",
          "text": [
            "Training Epochs:  22%|██▏       | 2217/10000 [00:25<01:25, 91.26epoch/s]"
          ]
        },
        {
          "name": "stdout",
          "output_type": "stream",
          "text": [
            "Epoch [2200/10000], Loss: 0.0045357015915215015\n"
          ]
        },
        {
          "name": "stderr",
          "output_type": "stream",
          "text": [
            "Training Epochs:  23%|██▎       | 2317/10000 [00:26<01:23, 92.42epoch/s]"
          ]
        },
        {
          "name": "stdout",
          "output_type": "stream",
          "text": [
            "Epoch [2300/10000], Loss: 0.001057364046573639\n"
          ]
        },
        {
          "name": "stderr",
          "output_type": "stream",
          "text": [
            "Training Epochs:  24%|██▍       | 2417/10000 [00:27<01:22, 92.27epoch/s]"
          ]
        },
        {
          "name": "stdout",
          "output_type": "stream",
          "text": [
            "Epoch [2400/10000], Loss: 0.006588144693523645\n"
          ]
        },
        {
          "name": "stderr",
          "output_type": "stream",
          "text": [
            "Training Epochs:  25%|██▌       | 2517/10000 [00:28<01:21, 91.48epoch/s]"
          ]
        },
        {
          "name": "stdout",
          "output_type": "stream",
          "text": [
            "Epoch [2500/10000], Loss: 0.003601609729230404\n"
          ]
        },
        {
          "name": "stderr",
          "output_type": "stream",
          "text": [
            "Training Epochs:  26%|██▌       | 2617/10000 [00:29<01:21, 90.65epoch/s]"
          ]
        },
        {
          "name": "stdout",
          "output_type": "stream",
          "text": [
            "Epoch [2600/10000], Loss: 0.00792043749243021\n"
          ]
        },
        {
          "name": "stderr",
          "output_type": "stream",
          "text": [
            "Training Epochs:  27%|██▋       | 2717/10000 [00:30<01:20, 90.60epoch/s]"
          ]
        },
        {
          "name": "stdout",
          "output_type": "stream",
          "text": [
            "Epoch [2700/10000], Loss: 0.004941502120345831\n"
          ]
        },
        {
          "name": "stderr",
          "output_type": "stream",
          "text": [
            "Training Epochs:  28%|██▊       | 2817/10000 [00:31<01:19, 90.14epoch/s]"
          ]
        },
        {
          "name": "stdout",
          "output_type": "stream",
          "text": [
            "Epoch [2800/10000], Loss: 0.0015882820589467883\n"
          ]
        },
        {
          "name": "stderr",
          "output_type": "stream",
          "text": [
            "Training Epochs:  29%|██▉       | 2916/10000 [00:33<01:19, 89.59epoch/s]"
          ]
        },
        {
          "name": "stdout",
          "output_type": "stream",
          "text": [
            "Epoch [2900/10000], Loss: 0.002902576234191656\n"
          ]
        },
        {
          "name": "stderr",
          "output_type": "stream",
          "text": [
            "Training Epochs:  30%|███       | 3012/10000 [00:34<01:22, 84.27epoch/s]"
          ]
        },
        {
          "name": "stdout",
          "output_type": "stream",
          "text": [
            "Epoch [3000/10000], Loss: 0.0028177881613373756\n"
          ]
        },
        {
          "name": "stderr",
          "output_type": "stream",
          "text": [
            "Training Epochs:  31%|███       | 3116/10000 [00:35<01:19, 86.43epoch/s]"
          ]
        },
        {
          "name": "stdout",
          "output_type": "stream",
          "text": [
            "Epoch [3100/10000], Loss: 0.0012994371354579926\n"
          ]
        },
        {
          "name": "stderr",
          "output_type": "stream",
          "text": [
            "Training Epochs:  32%|███▏      | 3211/10000 [00:36<01:16, 88.56epoch/s]"
          ]
        },
        {
          "name": "stdout",
          "output_type": "stream",
          "text": [
            "Epoch [3200/10000], Loss: 0.0029410456772893667\n"
          ]
        },
        {
          "name": "stderr",
          "output_type": "stream",
          "text": [
            "Training Epochs:  33%|███▎      | 3317/10000 [00:37<01:14, 90.20epoch/s]"
          ]
        },
        {
          "name": "stdout",
          "output_type": "stream",
          "text": [
            "Epoch [3300/10000], Loss: 0.005910762585699558\n"
          ]
        },
        {
          "name": "stderr",
          "output_type": "stream",
          "text": [
            "Training Epochs:  34%|███▍      | 3410/10000 [00:38<01:13, 89.14epoch/s]"
          ]
        },
        {
          "name": "stdout",
          "output_type": "stream",
          "text": [
            "Epoch [3400/10000], Loss: 0.0029460936784744263\n"
          ]
        },
        {
          "name": "stderr",
          "output_type": "stream",
          "text": [
            "Training Epochs:  35%|███▌      | 3518/10000 [00:39<01:13, 88.64epoch/s]"
          ]
        },
        {
          "name": "stdout",
          "output_type": "stream",
          "text": [
            "Epoch [3500/10000], Loss: 0.005672725848853588\n"
          ]
        },
        {
          "name": "stderr",
          "output_type": "stream",
          "text": [
            "Training Epochs:  36%|███▌      | 3618/10000 [00:41<01:11, 88.90epoch/s]"
          ]
        },
        {
          "name": "stdout",
          "output_type": "stream",
          "text": [
            "Epoch [3600/10000], Loss: 0.003829528111964464\n"
          ]
        },
        {
          "name": "stderr",
          "output_type": "stream",
          "text": [
            "Training Epochs:  37%|███▋      | 3711/10000 [00:42<01:11, 88.34epoch/s]"
          ]
        },
        {
          "name": "stdout",
          "output_type": "stream",
          "text": [
            "Epoch [3700/10000], Loss: 0.001542285899631679\n"
          ]
        },
        {
          "name": "stderr",
          "output_type": "stream",
          "text": [
            "Training Epochs:  38%|███▊      | 3810/10000 [00:43<01:09, 88.61epoch/s]"
          ]
        },
        {
          "name": "stdout",
          "output_type": "stream",
          "text": [
            "Epoch [3800/10000], Loss: 0.001144716516137123\n"
          ]
        },
        {
          "name": "stderr",
          "output_type": "stream",
          "text": [
            "Training Epochs:  39%|███▉      | 3914/10000 [00:44<01:08, 89.16epoch/s]"
          ]
        },
        {
          "name": "stdout",
          "output_type": "stream",
          "text": [
            "Epoch [3900/10000], Loss: 0.004491617903113365\n"
          ]
        },
        {
          "name": "stderr",
          "output_type": "stream",
          "text": [
            "Training Epochs:  40%|████      | 4016/10000 [00:45<01:08, 87.78epoch/s]"
          ]
        },
        {
          "name": "stdout",
          "output_type": "stream",
          "text": [
            "Epoch [4000/10000], Loss: 0.00025732393260113895\n"
          ]
        },
        {
          "name": "stderr",
          "output_type": "stream",
          "text": [
            "Training Epochs:  41%|████      | 4113/10000 [00:46<01:13, 79.91epoch/s]"
          ]
        },
        {
          "name": "stdout",
          "output_type": "stream",
          "text": [
            "Epoch [4100/10000], Loss: 0.0019647679291665554\n"
          ]
        },
        {
          "name": "stderr",
          "output_type": "stream",
          "text": [
            "Training Epochs:  42%|████▏     | 4211/10000 [00:47<01:03, 90.94epoch/s]"
          ]
        },
        {
          "name": "stdout",
          "output_type": "stream",
          "text": [
            "Epoch [4200/10000], Loss: 0.0007134819170460105\n"
          ]
        },
        {
          "name": "stderr",
          "output_type": "stream",
          "text": [
            "Training Epochs:  43%|████▎     | 4311/10000 [00:48<01:02, 91.34epoch/s]"
          ]
        },
        {
          "name": "stdout",
          "output_type": "stream",
          "text": [
            "Epoch [4300/10000], Loss: 0.0005964082665741444\n"
          ]
        },
        {
          "name": "stderr",
          "output_type": "stream",
          "text": [
            "Training Epochs:  44%|████▍     | 4411/10000 [00:50<01:01, 90.97epoch/s]"
          ]
        },
        {
          "name": "stdout",
          "output_type": "stream",
          "text": [
            "Epoch [4400/10000], Loss: 0.001592869171872735\n"
          ]
        },
        {
          "name": "stderr",
          "output_type": "stream",
          "text": [
            "Training Epochs:  45%|████▌     | 4511/10000 [00:51<00:59, 92.20epoch/s]"
          ]
        },
        {
          "name": "stdout",
          "output_type": "stream",
          "text": [
            "Epoch [4500/10000], Loss: 0.002996858675032854\n"
          ]
        },
        {
          "name": "stderr",
          "output_type": "stream",
          "text": [
            "Training Epochs:  46%|████▌     | 4611/10000 [00:52<00:58, 91.89epoch/s]"
          ]
        },
        {
          "name": "stdout",
          "output_type": "stream",
          "text": [
            "Epoch [4600/10000], Loss: 0.009049606509506702\n"
          ]
        },
        {
          "name": "stderr",
          "output_type": "stream",
          "text": [
            "Training Epochs:  47%|████▋     | 4711/10000 [00:53<00:58, 90.98epoch/s]"
          ]
        },
        {
          "name": "stdout",
          "output_type": "stream",
          "text": [
            "Epoch [4700/10000], Loss: 0.002307891147211194\n"
          ]
        },
        {
          "name": "stderr",
          "output_type": "stream",
          "text": [
            "Training Epochs:  48%|████▊     | 4811/10000 [00:54<00:56, 91.33epoch/s]"
          ]
        },
        {
          "name": "stdout",
          "output_type": "stream",
          "text": [
            "Epoch [4800/10000], Loss: 0.0004639017570298165\n"
          ]
        },
        {
          "name": "stderr",
          "output_type": "stream",
          "text": [
            "Training Epochs:  49%|████▉     | 4911/10000 [00:55<00:56, 90.27epoch/s]"
          ]
        },
        {
          "name": "stdout",
          "output_type": "stream",
          "text": [
            "Epoch [4900/10000], Loss: 0.0031897197477519512\n"
          ]
        },
        {
          "name": "stderr",
          "output_type": "stream",
          "text": [
            "Training Epochs:  50%|█████     | 5011/10000 [00:56<00:54, 91.29epoch/s]"
          ]
        },
        {
          "name": "stdout",
          "output_type": "stream",
          "text": [
            "Epoch [5000/10000], Loss: 0.0031294727232307196\n"
          ]
        },
        {
          "name": "stderr",
          "output_type": "stream",
          "text": [
            "Training Epochs:  51%|█████     | 5115/10000 [00:57<01:02, 78.55epoch/s]"
          ]
        },
        {
          "name": "stdout",
          "output_type": "stream",
          "text": [
            "Epoch [5100/10000], Loss: 0.0011531185591593385\n"
          ]
        },
        {
          "name": "stderr",
          "output_type": "stream",
          "text": [
            "Training Epochs:  52%|█████▏    | 5214/10000 [00:59<00:53, 89.07epoch/s]"
          ]
        },
        {
          "name": "stdout",
          "output_type": "stream",
          "text": [
            "Epoch [5200/10000], Loss: 0.0031938981264829636\n"
          ]
        },
        {
          "name": "stderr",
          "output_type": "stream",
          "text": [
            "Training Epochs:  53%|█████▎    | 5312/10000 [01:00<00:51, 90.33epoch/s]"
          ]
        },
        {
          "name": "stdout",
          "output_type": "stream",
          "text": [
            "Epoch [5300/10000], Loss: 0.0002902535779867321\n"
          ]
        },
        {
          "name": "stderr",
          "output_type": "stream",
          "text": [
            "Training Epochs:  54%|█████▍    | 5412/10000 [01:01<00:50, 91.54epoch/s]"
          ]
        },
        {
          "name": "stdout",
          "output_type": "stream",
          "text": [
            "Epoch [5400/10000], Loss: 0.004817069508135319\n"
          ]
        },
        {
          "name": "stderr",
          "output_type": "stream",
          "text": [
            "Training Epochs:  55%|█████▌    | 5512/10000 [01:02<00:48, 91.59epoch/s]"
          ]
        },
        {
          "name": "stdout",
          "output_type": "stream",
          "text": [
            "Epoch [5500/10000], Loss: 0.0016974401660263538\n"
          ]
        },
        {
          "name": "stderr",
          "output_type": "stream",
          "text": [
            "Training Epochs:  56%|█████▌    | 5612/10000 [01:03<00:47, 91.55epoch/s]"
          ]
        },
        {
          "name": "stdout",
          "output_type": "stream",
          "text": [
            "Epoch [5600/10000], Loss: 0.001519446144811809\n"
          ]
        },
        {
          "name": "stderr",
          "output_type": "stream",
          "text": [
            "Training Epochs:  57%|█████▋    | 5712/10000 [01:04<00:47, 91.22epoch/s]"
          ]
        },
        {
          "name": "stdout",
          "output_type": "stream",
          "text": [
            "Epoch [5700/10000], Loss: 0.004998624790459871\n"
          ]
        },
        {
          "name": "stderr",
          "output_type": "stream",
          "text": [
            "Training Epochs:  58%|█████▊    | 5812/10000 [01:05<00:46, 90.32epoch/s]"
          ]
        },
        {
          "name": "stdout",
          "output_type": "stream",
          "text": [
            "Epoch [5800/10000], Loss: 0.0057626524940133095\n"
          ]
        },
        {
          "name": "stderr",
          "output_type": "stream",
          "text": [
            "Training Epochs:  59%|█████▉    | 5912/10000 [01:06<00:45, 89.39epoch/s]"
          ]
        },
        {
          "name": "stdout",
          "output_type": "stream",
          "text": [
            "Epoch [5900/10000], Loss: 0.0002852282195817679\n"
          ]
        },
        {
          "name": "stderr",
          "output_type": "stream",
          "text": [
            "Training Epochs:  60%|██████    | 6012/10000 [01:07<00:44, 90.32epoch/s]"
          ]
        },
        {
          "name": "stdout",
          "output_type": "stream",
          "text": [
            "Epoch [6000/10000], Loss: 0.0029216366820037365\n"
          ]
        },
        {
          "name": "stderr",
          "output_type": "stream",
          "text": [
            "Training Epochs:  61%|██████    | 6109/10000 [01:08<00:47, 81.15epoch/s]"
          ]
        },
        {
          "name": "stdout",
          "output_type": "stream",
          "text": [
            "Epoch [6100/10000], Loss: 0.0008033749763853848\n"
          ]
        },
        {
          "name": "stderr",
          "output_type": "stream",
          "text": [
            "Training Epochs:  62%|██████▏   | 6211/10000 [01:10<00:44, 85.93epoch/s]"
          ]
        },
        {
          "name": "stdout",
          "output_type": "stream",
          "text": [
            "Epoch [6200/10000], Loss: 0.0064099449664354324\n"
          ]
        },
        {
          "name": "stderr",
          "output_type": "stream",
          "text": [
            "Training Epochs:  63%|██████▎   | 6319/10000 [01:11<00:40, 90.61epoch/s]"
          ]
        },
        {
          "name": "stdout",
          "output_type": "stream",
          "text": [
            "Epoch [6300/10000], Loss: 0.0026018298231065273\n"
          ]
        },
        {
          "name": "stderr",
          "output_type": "stream",
          "text": [
            "Training Epochs:  64%|██████▍   | 6419/10000 [01:12<00:39, 91.14epoch/s]"
          ]
        },
        {
          "name": "stdout",
          "output_type": "stream",
          "text": [
            "Epoch [6400/10000], Loss: 0.0013733272207900882\n"
          ]
        },
        {
          "name": "stderr",
          "output_type": "stream",
          "text": [
            "Training Epochs:  65%|██████▌   | 6519/10000 [01:13<00:37, 91.66epoch/s]"
          ]
        },
        {
          "name": "stdout",
          "output_type": "stream",
          "text": [
            "Epoch [6500/10000], Loss: 0.0019052213756367564\n"
          ]
        },
        {
          "name": "stderr",
          "output_type": "stream",
          "text": [
            "Training Epochs:  66%|██████▌   | 6619/10000 [01:14<00:37, 90.69epoch/s]"
          ]
        },
        {
          "name": "stdout",
          "output_type": "stream",
          "text": [
            "Epoch [6600/10000], Loss: 0.0049254195764660835\n"
          ]
        },
        {
          "name": "stderr",
          "output_type": "stream",
          "text": [
            "Training Epochs:  67%|██████▋   | 6718/10000 [01:15<00:35, 91.19epoch/s]"
          ]
        },
        {
          "name": "stdout",
          "output_type": "stream",
          "text": [
            "Epoch [6700/10000], Loss: 0.006262442097067833\n"
          ]
        },
        {
          "name": "stderr",
          "output_type": "stream",
          "text": [
            "Training Epochs:  68%|██████▊   | 6814/10000 [01:16<00:35, 89.67epoch/s]"
          ]
        },
        {
          "name": "stdout",
          "output_type": "stream",
          "text": [
            "Epoch [6800/10000], Loss: 0.004372029099613428\n"
          ]
        },
        {
          "name": "stderr",
          "output_type": "stream",
          "text": [
            "Training Epochs:  69%|██████▉   | 6915/10000 [01:18<00:35, 85.96epoch/s]"
          ]
        },
        {
          "name": "stdout",
          "output_type": "stream",
          "text": [
            "Epoch [6900/10000], Loss: 0.0004761262680403888\n"
          ]
        },
        {
          "name": "stderr",
          "output_type": "stream",
          "text": [
            "Training Epochs:  70%|███████   | 7013/10000 [01:19<00:32, 91.20epoch/s]"
          ]
        },
        {
          "name": "stdout",
          "output_type": "stream",
          "text": [
            "Epoch [7000/10000], Loss: 0.001885837409645319\n"
          ]
        },
        {
          "name": "stderr",
          "output_type": "stream",
          "text": [
            "Training Epochs:  71%|███████   | 7112/10000 [01:20<00:33, 85.32epoch/s]"
          ]
        },
        {
          "name": "stdout",
          "output_type": "stream",
          "text": [
            "Epoch [7100/10000], Loss: 0.003023568307980895\n"
          ]
        },
        {
          "name": "stderr",
          "output_type": "stream",
          "text": [
            "Training Epochs:  72%|███████▏  | 7212/10000 [01:21<00:36, 77.28epoch/s]"
          ]
        },
        {
          "name": "stdout",
          "output_type": "stream",
          "text": [
            "Epoch [7200/10000], Loss: 0.00038127132575027645\n"
          ]
        },
        {
          "name": "stderr",
          "output_type": "stream",
          "text": [
            "Training Epochs:  73%|███████▎  | 7316/10000 [01:22<00:30, 89.02epoch/s]"
          ]
        },
        {
          "name": "stdout",
          "output_type": "stream",
          "text": [
            "Epoch [7300/10000], Loss: 0.00016129211871884763\n"
          ]
        },
        {
          "name": "stderr",
          "output_type": "stream",
          "text": [
            "Training Epochs:  74%|███████▍  | 7416/10000 [01:23<00:28, 91.36epoch/s]"
          ]
        },
        {
          "name": "stdout",
          "output_type": "stream",
          "text": [
            "Epoch [7400/10000], Loss: 0.007030511274933815\n"
          ]
        },
        {
          "name": "stderr",
          "output_type": "stream",
          "text": [
            "Training Epochs:  75%|███████▌  | 7516/10000 [01:24<00:27, 90.77epoch/s]"
          ]
        },
        {
          "name": "stdout",
          "output_type": "stream",
          "text": [
            "Epoch [7500/10000], Loss: 0.0005535597447305918\n"
          ]
        },
        {
          "name": "stderr",
          "output_type": "stream",
          "text": [
            "Training Epochs:  76%|███████▌  | 7616/10000 [01:25<00:25, 91.79epoch/s]"
          ]
        },
        {
          "name": "stdout",
          "output_type": "stream",
          "text": [
            "Epoch [7600/10000], Loss: 0.0005510829505510628\n"
          ]
        },
        {
          "name": "stderr",
          "output_type": "stream",
          "text": [
            "Training Epochs:  77%|███████▋  | 7716/10000 [01:27<00:24, 91.69epoch/s]"
          ]
        },
        {
          "name": "stdout",
          "output_type": "stream",
          "text": [
            "Epoch [7700/10000], Loss: 0.003504417138174176\n"
          ]
        },
        {
          "name": "stderr",
          "output_type": "stream",
          "text": [
            "Training Epochs:  78%|███████▊  | 7816/10000 [01:28<00:23, 91.42epoch/s]"
          ]
        },
        {
          "name": "stdout",
          "output_type": "stream",
          "text": [
            "Epoch [7800/10000], Loss: 0.0017629540525376797\n"
          ]
        },
        {
          "name": "stderr",
          "output_type": "stream",
          "text": [
            "Training Epochs:  79%|███████▉  | 7916/10000 [01:29<00:22, 91.13epoch/s]"
          ]
        },
        {
          "name": "stdout",
          "output_type": "stream",
          "text": [
            "Epoch [7900/10000], Loss: 8.518843969795853e-05\n"
          ]
        },
        {
          "name": "stderr",
          "output_type": "stream",
          "text": [
            "Training Epochs:  80%|████████  | 8016/10000 [01:30<00:21, 91.19epoch/s]"
          ]
        },
        {
          "name": "stdout",
          "output_type": "stream",
          "text": [
            "Epoch [8000/10000], Loss: 0.0015238340711221099\n"
          ]
        },
        {
          "name": "stderr",
          "output_type": "stream",
          "text": [
            "Training Epochs:  81%|████████  | 8116/10000 [01:31<00:20, 90.33epoch/s]"
          ]
        },
        {
          "name": "stdout",
          "output_type": "stream",
          "text": [
            "Epoch [8100/10000], Loss: 0.0034468001686036587\n"
          ]
        },
        {
          "name": "stderr",
          "output_type": "stream",
          "text": [
            "Training Epochs:  82%|████████▏ | 8211/10000 [01:32<00:20, 89.28epoch/s]"
          ]
        },
        {
          "name": "stdout",
          "output_type": "stream",
          "text": [
            "Epoch [8200/10000], Loss: 0.0017646418418735266\n"
          ]
        },
        {
          "name": "stderr",
          "output_type": "stream",
          "text": [
            "Training Epochs:  83%|████████▎ | 8314/10000 [01:33<00:18, 88.89epoch/s]"
          ]
        },
        {
          "name": "stdout",
          "output_type": "stream",
          "text": [
            "Epoch [8300/10000], Loss: 0.002957094693556428\n"
          ]
        },
        {
          "name": "stderr",
          "output_type": "stream",
          "text": [
            "Training Epochs:  84%|████████▍ | 8411/10000 [01:34<00:17, 89.84epoch/s]"
          ]
        },
        {
          "name": "stdout",
          "output_type": "stream",
          "text": [
            "Epoch [8400/10000], Loss: 0.0006594252190552652\n"
          ]
        },
        {
          "name": "stderr",
          "output_type": "stream",
          "text": [
            "Training Epochs:  85%|████████▌ | 8510/10000 [01:35<00:16, 90.54epoch/s]"
          ]
        },
        {
          "name": "stdout",
          "output_type": "stream",
          "text": [
            "Epoch [8500/10000], Loss: 0.005183505825698376\n"
          ]
        },
        {
          "name": "stderr",
          "output_type": "stream",
          "text": [
            "Training Epochs:  86%|████████▌ | 8619/10000 [01:37<00:15, 90.61epoch/s]"
          ]
        },
        {
          "name": "stdout",
          "output_type": "stream",
          "text": [
            "Epoch [8600/10000], Loss: 0.001955334795638919\n"
          ]
        },
        {
          "name": "stderr",
          "output_type": "stream",
          "text": [
            "Training Epochs:  87%|████████▋ | 8719/10000 [01:38<00:14, 90.49epoch/s]"
          ]
        },
        {
          "name": "stdout",
          "output_type": "stream",
          "text": [
            "Epoch [8700/10000], Loss: 0.002570787677541375\n"
          ]
        },
        {
          "name": "stderr",
          "output_type": "stream",
          "text": [
            "Training Epochs:  88%|████████▊ | 8819/10000 [01:39<00:12, 90.98epoch/s]"
          ]
        },
        {
          "name": "stdout",
          "output_type": "stream",
          "text": [
            "Epoch [8800/10000], Loss: 0.00027196292649023235\n"
          ]
        },
        {
          "name": "stderr",
          "output_type": "stream",
          "text": [
            "Training Epochs:  89%|████████▉ | 8919/10000 [01:40<00:11, 90.34epoch/s]"
          ]
        },
        {
          "name": "stdout",
          "output_type": "stream",
          "text": [
            "Epoch [8900/10000], Loss: 0.002560448134317994\n"
          ]
        },
        {
          "name": "stderr",
          "output_type": "stream",
          "text": [
            "Training Epochs:  90%|█████████ | 9009/10000 [01:41<00:10, 90.30epoch/s]"
          ]
        },
        {
          "name": "stdout",
          "output_type": "stream",
          "text": [
            "Epoch [9000/10000], Loss: 6.804092845413834e-05\n"
          ]
        },
        {
          "name": "stderr",
          "output_type": "stream",
          "text": [
            "Training Epochs:  91%|█████████ | 9119/10000 [01:42<00:09, 90.52epoch/s]"
          ]
        },
        {
          "name": "stdout",
          "output_type": "stream",
          "text": [
            "Epoch [9100/10000], Loss: 0.00024486324400641024\n"
          ]
        },
        {
          "name": "stderr",
          "output_type": "stream",
          "text": [
            "Training Epochs:  92%|█████████▏| 9208/10000 [01:43<00:09, 83.79epoch/s]"
          ]
        },
        {
          "name": "stdout",
          "output_type": "stream",
          "text": [
            "Epoch [9200/10000], Loss: 0.008050567470490932\n"
          ]
        },
        {
          "name": "stderr",
          "output_type": "stream",
          "text": [
            "Training Epochs:  93%|█████████▎| 9309/10000 [01:45<00:08, 78.89epoch/s]"
          ]
        },
        {
          "name": "stdout",
          "output_type": "stream",
          "text": [
            "Epoch [9300/10000], Loss: 0.0011512420605868101\n"
          ]
        },
        {
          "name": "stderr",
          "output_type": "stream",
          "text": [
            "Training Epochs:  94%|█████████▍| 9416/10000 [01:46<00:06, 89.64epoch/s]"
          ]
        },
        {
          "name": "stdout",
          "output_type": "stream",
          "text": [
            "Epoch [9400/10000], Loss: 0.004408635664731264\n"
          ]
        },
        {
          "name": "stderr",
          "output_type": "stream",
          "text": [
            "Training Epochs:  95%|█████████▌| 9516/10000 [01:47<00:05, 90.20epoch/s]"
          ]
        },
        {
          "name": "stdout",
          "output_type": "stream",
          "text": [
            "Epoch [9500/10000], Loss: 0.0010427737142890692\n"
          ]
        },
        {
          "name": "stderr",
          "output_type": "stream",
          "text": [
            "Training Epochs:  96%|█████████▌| 9616/10000 [01:48<00:04, 91.24epoch/s]"
          ]
        },
        {
          "name": "stdout",
          "output_type": "stream",
          "text": [
            "Epoch [9600/10000], Loss: 2.1501213268493302e-05\n"
          ]
        },
        {
          "name": "stderr",
          "output_type": "stream",
          "text": [
            "Training Epochs:  97%|█████████▋| 9716/10000 [01:49<00:03, 91.06epoch/s]"
          ]
        },
        {
          "name": "stdout",
          "output_type": "stream",
          "text": [
            "Epoch [9700/10000], Loss: 0.006684352643787861\n"
          ]
        },
        {
          "name": "stderr",
          "output_type": "stream",
          "text": [
            "Training Epochs:  98%|█████████▊| 9816/10000 [01:50<00:02, 90.77epoch/s]"
          ]
        },
        {
          "name": "stdout",
          "output_type": "stream",
          "text": [
            "Epoch [9800/10000], Loss: 0.0009723516413941979\n"
          ]
        },
        {
          "name": "stderr",
          "output_type": "stream",
          "text": [
            "Training Epochs:  99%|█████████▉| 9916/10000 [01:51<00:00, 90.80epoch/s]"
          ]
        },
        {
          "name": "stdout",
          "output_type": "stream",
          "text": [
            "Epoch [9900/10000], Loss: 0.0032292213290929794\n"
          ]
        },
        {
          "name": "stderr",
          "output_type": "stream",
          "text": [
            "Training Epochs: 100%|██████████| 10000/10000 [01:52<00:00, 88.78epoch/s]\n"
          ]
        }
      ],
      "source": [
        "\n",
        "# CosineAnnealingLR scheduler\n",
        "scheduler = optim.lr_scheduler.CosineAnnealingLR(optimizer, T_max=config.epochs, eta_min=1e-6)  # eta_min is the minimum learning rate\n",
        "\n",
        "# List to store the learning rates during training\n",
        "learning_rates = []\n",
        "\n",
        "\n",
        "# Training loop\n",
        "\n",
        "for epoch in tqdm(range(num_epochs), desc=\"Training Epochs\", unit=\"epoch\"):\n",
        "    model.train()\n",
        "\n",
        "    optimizer.step(closure)\n",
        "    scheduler.step()\n",
        "\n",
        "\n",
        "    loss = loss_values[-1]\n",
        "    learning_rates.append(optimizer.param_groups[0]['lr'])\n",
        "\n",
        "    # Track the best model based on loss\n",
        "    if loss < best_loss:\n",
        "        best_loss = loss\n",
        "        best_model_state_dict = model.state_dict()  # Save the model's best state\n",
        "\n",
        "    # Print progress\n",
        "    if epoch % 100 == 0:\n",
        "        print(f\"Epoch [{epoch}/{num_epochs}], Loss: {loss}\")\n",
        "\n",
        "\n"
      ]
    },
    {
      "cell_type": "code",
      "execution_count": 18,
      "metadata": {
        "id": "jgZkNhWyxW2W"
      },
      "outputs": [],
      "source": []
    },
    {
      "cell_type": "code",
      "execution_count": 19,
      "metadata": {
        "colab": {
          "base_uri": "https://localhost:8080/",
          "height": 564
        },
        "id": "vQvWh4VAjrNy",
        "outputId": "938b0781-9a13-4b58-a93e-0178a3345238"
      },
      "outputs": [
        {
          "data": {
            "image/png": "[encoded data removed]",
            "text/plain": [
              "<Figure size 1000x600 with 1 Axes>"
            ]
          },
          "metadata": {},
          "output_type": "display_data"
        }
      ],
      "source": [
        "\n",
        "# Plot the loss curve after training\n",
        "plt.figure(figsize=(10, 6))\n",
        "plt.plot(range(num_epochs), loss_values, label=\"Loss\")\n",
        "plt.xlabel(\"Epoch\")\n",
        "plt.ylabel(\"Loss\")\n",
        "plt.title(\"Training Loss Curve\")\n",
        "plt.grid(True)\n",
        "plt.legend()\n",
        "plt.show()\n",
        "\n"
      ]
    },
    {
      "cell_type": "code",
      "execution_count": 20,
      "metadata": {
        "colab": {
          "base_uri": "https://localhost:8080/",
          "height": 564
        },
        "id": "gDqQWreWjwD-",
        "outputId": "34cb0700-6fbc-455b-f087-272adb01cda2"
      },
      "outputs": [
        {
          "data": {
            "image/png": "[encoded data removed]",
            "text/plain": [
              "<Figure size 1000x600 with 1 Axes>"
            ]
          },
          "metadata": {},
          "output_type": "display_data"
        }
      ],
      "source": [
        "# Plot the learning rate curve after training\n",
        "plt.figure(figsize=(10, 6))\n",
        "plt.plot(range(num_epochs), learning_rates, label=\"Learning Rate\", color='r')\n",
        "plt.xlabel(\"Epoch\")\n",
        "plt.ylabel(\"Learning Rate\")\n",
        "plt.title(\"Learning Rate Schedule\")\n",
        "plt.grid(True)\n",
        "plt.legend()\n",
        "plt.show()\n"
      ]
    },
    {
      "cell_type": "code",
      "execution_count": 21,
      "metadata": {
        "colab": {
          "base_uri": "https://localhost:8080/"
        },
        "id": "lgN_-AMRh7NB",
        "outputId": "1fcf88a8-7bc7-48a0-b6ce-d8a4801a1f23"
      },
      "outputs": [
        {
          "name": "stdout",
          "output_type": "stream",
          "text": [
            "Best model saved with loss: 2.019456405832898e-05\n"
          ]
        }
      ],
      "source": [
        "\n",
        "# Optional: Visualize model weights after training\n",
        "# visualize_model_weights(model)\n",
        "\n",
        "# Save the best model after training\n",
        "if best_model_state_dict is not None:\n",
        "    torch.save(best_model_state_dict, \"best_pinn_model.pth\")\n",
        "    print(f\"Best model saved with loss: {best_loss}\")\n"
      ]
    },
    {
      "cell_type": "code",
      "execution_count": 23,
      "metadata": {
        "id": "iepSMZPoxYMh"
      },
      "outputs": [],
      "source": [
        "\n",
        "## Model Evaluation and Visualization\n",
        "\n",
        "model = PINN(in_dim=1, hidden_dim=config.hidden_dim, out_dim=1, num_layer=config.num_layers, activation=config.activation_function)\n",
        "\n",
        "checkpoint_path = \"best_pinn_model.pth\"\n",
        "model.load_state_dict(torch.load(checkpoint_path))  # Load the best model weights from the checkpoint\n",
        "model.eval()  # Set the model to evaluation mode\n",
        "\n",
        "\n",
        "z_test = torch.tensor(np.linspace(0, 20, 500), dtype=torch.float32).view(-1, 1)  # Generate 500 points for z in the domain range [0, 20]\n",
        "\n",
        "\n",
        "with torch.no_grad():\n",
        "    x_pred = model(z_test)\n",
        "\n"
      ]
    },
    {
      "cell_type": "code",
      "execution_count": 24,
      "metadata": {
        "colab": {
          "base_uri": "https://localhost:8080/",
          "height": 564
        },
        "id": "5VnFRbmW4v_1",
        "outputId": "9c4065c8-55ee-4ce0-cd2d-3d5055906c95"
      },
      "outputs": [
        {
          "data": {
            "image/png": "[encoded data removed]",
            "text/plain": [
              "<Figure size 1000x600 with 1 Axes>"
            ]
          },
          "metadata": {},
          "output_type": "display_data"
        }
      ],
      "source": [
        "# Plot the learned model output\n",
        "\n",
        "plt.figure(figsize=(10, 6))\n",
        "plt.plot(z_test.numpy(), x_pred.numpy(), label=\"Learned Model Output x(z) x_pred\", color='b')\n",
        "plt.xlabel(\"Time (z)\")\n",
        "plt.ylabel(\"Displacement x(z)\")\n",
        "plt.title(\"Learned Model Output (Displacement) vs Time\")\n",
        "plt.grid(True)\n",
        "plt.legend()\n",
        "plt.show()\n"
      ]
    },
    {
      "cell_type": "code",
      "execution_count": 19,
      "metadata": {
        "id": "6uBS_2nN4tHj"
      },
      "outputs": [],
      "source": []
    }
  ],
  "metadata": {
    "accelerator": "GPU",
    "colab": {
      "gpuType": "L4",
      "machine_shape": "hm",
      "provenance": []
    },
    "kernelspec": {
      "display_name": "Python 3",
      "name": "python3"
    },
    "language_info": {
      "name": "python"
    }
  },
  "nbformat": 4,
  "nbformat_minor": 0
}
